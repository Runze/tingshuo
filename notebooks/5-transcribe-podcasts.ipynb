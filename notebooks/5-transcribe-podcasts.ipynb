{
 "cells": [
  {
   "cell_type": "code",
   "execution_count": null,
   "metadata": {},
   "outputs": [],
   "source": [
    "%matplotlib inline\n",
    "%reload_ext autoreload\n",
    "%autoreload 2\n",
    "%config InlineBackend.figure_format = 'retina'"
   ]
  },
  {
   "cell_type": "code",
   "execution_count": null,
   "metadata": {},
   "outputs": [],
   "source": [
    "import re\n",
    "import requests\n",
    "import numpy as np\n",
    "import pandas as pd\n",
    "import pickle\n",
    "from google.cloud import storage\n",
    "from google.cloud import speech\n",
    "from google.cloud import speech_v1p1beta1 as speech\n",
    "import io\n",
    "import os\n",
    "os.environ['GOOGLE_APPLICATION_CREDENTIALS'] = 'cred/translate-cred.json'"
   ]
  },
  {
   "cell_type": "code",
   "execution_count": null,
   "metadata": {},
   "outputs": [],
   "source": [
    "pd.set_option('display.max_colwidth', -1)\n",
    "pd.options.display.max_rows = 300"
   ]
  },
  {
   "cell_type": "markdown",
   "metadata": {},
   "source": [
    "## Transcribe episodes for select podcasts"
   ]
  },
  {
   "cell_type": "code",
   "execution_count": null,
   "metadata": {},
   "outputs": [],
   "source": [
    "# Select the podcasts and episodes to download\n",
    "podcast_id = '1295839054'\n",
    "podcast_artwork = 'https://is5-ssl.mzstatic.com/image/thumb/Podcasts123/v4/bf/04/aa/bf04aaef-323a-ffa5-eda0-8db690b75310/mza_5471750803414788155.jpeg/626x0w.jpg'\n",
    "episode_title = \"L'immigration nuit-elle à l'économie ?\"\n",
    "episode_link = 'https://rss.art19.com/episodes/ddeb0407-3097-4dae-ba4d-1b11b651438e.mp3'\n",
    "epidode_date = '2017-11-26'\n",
    "episode_lang = 'fr-FR'"
   ]
  },
  {
   "cell_type": "code",
   "execution_count": null,
   "metadata": {},
   "outputs": [],
   "source": [
    "# Download episode\n",
    "def download_episode(podcast_id, episode_link, download_dir):\n",
    "    # Construct file names\n",
    "    file_format = re.sub('\\?.*$', '', episode_link.split('.')[-1])\n",
    "    file_name = \"{}.{}\".format(podcast_id, file_format)\n",
    "    file_path = \"{}/{}\".format(download_dir, file_name)\n",
    "\n",
    "    # Download\n",
    "    os.system(\"rm {}\".format(file_path))\n",
    "    os.system(\"wget -O {} {}\".format(file_path, episode_link))\n",
    "    return file_path"
   ]
  },
  {
   "cell_type": "code",
   "execution_count": null,
   "metadata": {},
   "outputs": [],
   "source": [
    "file_path = download_episode(podcast_id, episode_link, 'data/podcasts')"
   ]
  },
  {
   "cell_type": "code",
   "execution_count": null,
   "metadata": {},
   "outputs": [],
   "source": [
    "# Convert mp3 to wav\n",
    "def mp3_to_wav(file_path):\n",
    "    if file_path.split('.')[1] == 'mp3':\n",
    "        file_path_wav = re.sub('\\.mp3$', '.wav', file_path)\n",
    "        os.system(\"../../ffmpeg/ffmpeg -i {} -ac 1 {}\".format(file_path, file_path_wav))\n",
    "        return file_path_wav\n",
    "    return file_path"
   ]
  },
  {
   "cell_type": "code",
   "execution_count": null,
   "metadata": {},
   "outputs": [],
   "source": [
    "file_path = mp3_to_wav(file_path)"
   ]
  },
  {
   "cell_type": "code",
   "execution_count": null,
   "metadata": {},
   "outputs": [],
   "source": [
    "# Upload the audio file to Google cloud storage\n",
    "def upload_file_to_gcs(bucket_name, file_path):\n",
    "    storage_client = storage.Client()\n",
    "    \n",
    "    # Get bucket\n",
    "    bucket = storage_client.get_bucket(bucket_name)\n",
    "    \n",
    "    # Upload\n",
    "    file_name = file_path.split('/')[-1]\n",
    "    blob = bucket.blob(file_name)\n",
    "    blob.upload_from_filename(file_path)\n",
    "    \n",
    "    gcs_uri = \"gs://{}/{}\".format(bucket_name, file_name)\n",
    "    return gcs_uri"
   ]
  },
  {
   "cell_type": "code",
   "execution_count": null,
   "metadata": {},
   "outputs": [],
   "source": [
    "gcs_uri = upload_file_to_gcs('tingshuo', file_path)"
   ]
  },
  {
   "cell_type": "code",
   "execution_count": null,
   "metadata": {},
   "outputs": [],
   "source": [
    "# Run ASR\n",
    "def run_asr(gcs_uri, src_lang):\n",
    "    asr_client = speech.SpeechClient()\n",
    "    audio = speech.types.RecognitionAudio(uri=gcs_uri)\n",
    "    \n",
    "    config = speech.types.RecognitionConfig(\n",
    "        encoding=speech.enums.RecognitionConfig.AudioEncoding.LINEAR16,\n",
    "        language_code=src_lang,\n",
    "        enable_automatic_punctuation=True)\n",
    "    \n",
    "    operation = asr_client.long_running_recognize(config, audio)\n",
    "    response = operation.result(timeout=3600*2)\n",
    "    return response"
   ]
  },
  {
   "cell_type": "code",
   "execution_count": null,
   "metadata": {},
   "outputs": [],
   "source": [
    "response = run_asr(gcs_uri, episode_lang)"
   ]
  },
  {
   "cell_type": "code",
   "execution_count": null,
   "metadata": {},
   "outputs": [],
   "source": [
    "# Output transcript\n",
    "for result in response.results:\n",
    "    with open(re.sub('\\.wav$', '.txt', file_path), 'a') as f:\n",
    "        f.write(result.alternatives[0].transcript + '\\n')"
   ]
  },
  {
   "cell_type": "code",
   "execution_count": null,
   "metadata": {},
   "outputs": [],
   "source": []
  }
 ],
 "metadata": {
  "kernelspec": {
   "display_name": "Python 3 (General DS)",
   "language": "python",
   "name": "python3"
  },
  "language_info": {
   "codemirror_mode": {
    "name": "ipython",
    "version": 3
   },
   "file_extension": ".py",
   "mimetype": "text/x-python",
   "name": "python",
   "nbconvert_exporter": "python",
   "pygments_lexer": "ipython3",
   "version": "3.6.4"
  }
 },
 "nbformat": 4,
 "nbformat_minor": 2
}
